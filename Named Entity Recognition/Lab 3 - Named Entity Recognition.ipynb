{
  "cells": [
    {
      "cell_type": "markdown",
      "id": "87363b4b",
      "metadata": {
        "id": "87363b4b"
      },
      "source": [
        "<hr style=\"border:2px solid gray\"> </hr>\n",
        "<img src=\"https://mma.prnewswire.com/media/1095203/East_Tennessee_State_University_Logo.jpg?p=facebook\" width=200 height=200 />\n",
        "\n",
        "<div class=\"alert alert-block alert-info\">\n",
        "    <h1 style=\"text-align: center\">CSCI 5037 - NLP & Text Analysis</h1>\n",
        "</div>\n",
        "\n",
        "# <center>Lab 3 – Named Entity Recognition</center>\n",
        "\n",
        "**<center>Dr. Ahmad Al-Doulat </center>**\n",
        "<center>Department of Computing </center>\n",
        "<center>East Tennessee State University</center>\n",
        "\n",
        "<hr style=\"border:2px solid lightblue\"> </hr>"
      ]
    },
    {
      "cell_type": "markdown",
      "id": "f647de7f",
      "metadata": {
        "id": "f647de7f"
      },
      "source": [
        "**In this assignment, you'll get to practice the concepts and skills covered in the first 3 modules (Modules 1, 2, and 3). The main objective of this assignment is to implement and use some of the tools, algorithms, and techniques to represent and clean textual data and to extract named entities..**\n",
        "\n",
        "\n",
        "\n",
        "**Guidelines**\n",
        "* Download `NER.csv` file from D2L.\n",
        "* Make sure to run all the code cells, otherwise you may get errors like `NameError` for undefined variables.\n",
        "* Do not change variable names, delete cells or disturb other existing code. It may cause problems during evaluation.\n",
        "* In some cases, you may need to add some code cells or new statements before or after the line of code containing the `???`.\n",
        "* Use markdown cells to write your discussions and reflections.\n",
        "\n",
        "**Procedure**\n",
        "* Save your work as `IPYNB` file named `Lab3.ipynb` and submit to D2L `Lab 3 – Named Entity Recognition (Dropbox)` by the due date.\n",
        "* As you go through this notebook, you will find the symbol `???` in certain places. To complete this assignment, you must replace all the `???` with appropriate values, expressions or statements to ensure that the notebook runs properly end-to-end.\n",
        "* Include your response for `Part 1` and `Part 2` in this notebook."
      ]
    },
    {
      "cell_type": "markdown",
      "id": "021e19a6",
      "metadata": {
        "id": "021e19a6"
      },
      "source": [
        "<div class=\"alert alert-block alert-info\">\n",
        "\n",
        "# Part 1: Activity\n",
        "\n",
        "</div>"
      ]
    },
    {
      "cell_type": "markdown",
      "id": "af6a1547",
      "metadata": {
        "id": "af6a1547"
      },
      "source": [
        "# Question 1: Reading the dataset\n",
        "<hr style=\"border:1px solid orange\"> </hr>"
      ]
    },
    {
      "cell_type": "markdown",
      "id": "4fee93f4",
      "metadata": {
        "id": "4fee93f4"
      },
      "source": [
        "#### Read the content of the `NER.csv` into a dataframe `ner_df` and perform the following:\n",
        "\n",
        "> **Q1.1.** Perform Part-of-Speech tagging on the `Sentence` column in the `ner_df`. Then, add the results as new column called `pos`.\n",
        "\n",
        "> **Q1.2.** Implement a function called `np_chunker` that receives each sentence from the `ner_df` dataframe. Then, it defines and applies a chunk parser to chunk all noun phrases from these sentences.\n",
        "\n",
        "> **Q1.3.** Perfrom a Named Entity Recognition (NER) on the Sentence column and add the extracted entities as a new column called `entities`"
      ]
    },
    {
      "cell_type": "code",
      "execution_count": 24,
      "id": "0b2f973e",
      "metadata": {
        "colab": {
          "base_uri": "https://localhost:8080/"
        },
        "id": "0b2f973e",
        "outputId": "232749fb-ab3b-48fa-9ff0-f4d514f45595"
      },
      "outputs": [
        {
          "name": "stdout",
          "output_type": "stream",
          "text": [
            "Requirement already satisfied: watermark in /usr/local/lib/python3.10/dist-packages (2.5.0)\n",
            "Requirement already satisfied: ipython>=6.0 in /usr/local/lib/python3.10/dist-packages (from watermark) (7.34.0)\n",
            "Requirement already satisfied: importlib-metadata>=1.4 in /usr/local/lib/python3.10/dist-packages (from watermark) (8.5.0)\n",
            "Requirement already satisfied: setuptools in /usr/local/lib/python3.10/dist-packages (from watermark) (71.0.4)\n",
            "Requirement already satisfied: zipp>=3.20 in /usr/local/lib/python3.10/dist-packages (from importlib-metadata>=1.4->watermark) (3.20.2)\n",
            "Requirement already satisfied: jedi>=0.16 in /usr/local/lib/python3.10/dist-packages (from ipython>=6.0->watermark) (0.19.1)\n",
            "Requirement already satisfied: decorator in /usr/local/lib/python3.10/dist-packages (from ipython>=6.0->watermark) (4.4.2)\n",
            "Requirement already satisfied: pickleshare in /usr/local/lib/python3.10/dist-packages (from ipython>=6.0->watermark) (0.7.5)\n",
            "Requirement already satisfied: traitlets>=4.2 in /usr/local/lib/python3.10/dist-packages (from ipython>=6.0->watermark) (5.7.1)\n",
            "Requirement already satisfied: prompt-toolkit!=3.0.0,!=3.0.1,<3.1.0,>=2.0.0 in /usr/local/lib/python3.10/dist-packages (from ipython>=6.0->watermark) (3.0.47)\n",
            "Requirement already satisfied: pygments in /usr/local/lib/python3.10/dist-packages (from ipython>=6.0->watermark) (2.18.0)\n",
            "Requirement already satisfied: backcall in /usr/local/lib/python3.10/dist-packages (from ipython>=6.0->watermark) (0.2.0)\n",
            "Requirement already satisfied: matplotlib-inline in /usr/local/lib/python3.10/dist-packages (from ipython>=6.0->watermark) (0.1.7)\n",
            "Requirement already satisfied: pexpect>4.3 in /usr/local/lib/python3.10/dist-packages (from ipython>=6.0->watermark) (4.9.0)\n",
            "Requirement already satisfied: parso<0.9.0,>=0.8.3 in /usr/local/lib/python3.10/dist-packages (from jedi>=0.16->ipython>=6.0->watermark) (0.8.4)\n",
            "Requirement already satisfied: ptyprocess>=0.5 in /usr/local/lib/python3.10/dist-packages (from pexpect>4.3->ipython>=6.0->watermark) (0.7.0)\n",
            "Requirement already satisfied: wcwidth in /usr/local/lib/python3.10/dist-packages (from prompt-toolkit!=3.0.0,!=3.0.1,<3.1.0,>=2.0.0->ipython>=6.0->watermark) (0.2.13)\n",
            "The watermark extension is already loaded. To reload it, use:\n",
            "  %reload_ext watermark\n"
          ]
        }
      ],
      "source": [
        "from IPython.display import display\n",
        "\n",
        "from collections import Counter\n",
        "from pprint import pprint\n",
        "\n",
        "import pandas as pd\n",
        "import numpy as np\n",
        "\n",
        "import matplotlib\n",
        "import matplotlib.pyplot as plt\n",
        "\n",
        "import tqdm as tq\n",
        "from tqdm import tqdm\n",
        "\n",
        "import string\n",
        "\n",
        "import nltk\n",
        "\n",
        "from nltk.corpus import treebank\n",
        "from nltk.tag import hmm\n",
        "\n",
        "!pip install watermark\n",
        "import watermark\n",
        "\n",
        "%load_ext watermark\n",
        "%matplotlib inline"
      ]
    },
    {
      "cell_type": "code",
      "execution_count": 25,
      "id": "pFZgDO-QlVen",
      "metadata": {
        "colab": {
          "base_uri": "https://localhost:8080/"
        },
        "id": "pFZgDO-QlVen",
        "outputId": "a3023b7f-f48e-4ca1-e9c5-422c39197181"
      },
      "outputs": [
        {
          "name": "stderr",
          "output_type": "stream",
          "text": [
            "[nltk_data] Downloading package averaged_perceptron_tagger to\n",
            "[nltk_data]     /root/nltk_data...\n",
            "[nltk_data]   Package averaged_perceptron_tagger is already up-to-\n",
            "[nltk_data]       date!\n",
            "[nltk_data] Downloading package punkt to /root/nltk_data...\n",
            "[nltk_data]   Package punkt is already up-to-date!\n",
            "[nltk_data] Downloading package maxent_ne_chunker to\n",
            "[nltk_data]     /root/nltk_data...\n",
            "[nltk_data]   Package maxent_ne_chunker is already up-to-date!\n",
            "[nltk_data] Downloading package words to /root/nltk_data...\n",
            "[nltk_data]   Package words is already up-to-date!\n",
            "[nltk_data] Downloading package treebank to /root/nltk_data...\n",
            "[nltk_data]   Package treebank is already up-to-date!\n"
          ]
        },
        {
          "data": {
            "text/plain": [
              "True"
            ]
          },
          "execution_count": 25,
          "metadata": {},
          "output_type": "execute_result"
        }
      ],
      "source": [
        "# Downloading the necessary nltk packages for our code.\n",
        "\n",
        "nltk.download('averaged_perceptron_tagger')\n",
        "nltk.download('punkt')\n",
        "nltk.download('maxent_ne_chunker')\n",
        "nltk.download('words')\n",
        "nltk.download('treebank')"
      ]
    },
    {
      "cell_type": "markdown",
      "id": "_1xTE4bGnXJH",
      "metadata": {
        "id": "_1xTE4bGnXJH"
      },
      "source": []
    },
    {
      "cell_type": "markdown",
      "id": "mfwkG3Z48y2Z",
      "metadata": {
        "id": "mfwkG3Z48y2Z"
      },
      "source": []
    },
    {
      "cell_type": "markdown",
      "id": "znnFCH8o89xE",
      "metadata": {
        "id": "znnFCH8o89xE"
      },
      "source": [
        "#### Q1.1. Perform Part-of-Speech tagging on the Sentence column in the ner_df. Then, add the results as new column called pos."
      ]
    },
    {
      "cell_type": "code",
      "execution_count": 26,
      "id": "oxIFnpgLmyR9",
      "metadata": {
        "colab": {
          "base_uri": "https://localhost:8080/",
          "height": 423
        },
        "id": "oxIFnpgLmyR9",
        "outputId": "0961106c-9db1-44d2-b352-3bd4518f6cba"
      },
      "outputs": [
        {
          "data": {
            "application/vnd.google.colaboratory.intrinsic+json": {
              "summary": "{\n  \"name\": \"ner_df\",\n  \"rows\": 47959,\n  \"fields\": [\n    {\n      \"column\": \"Sentence #\",\n      \"properties\": {\n        \"dtype\": \"string\",\n        \"num_unique_values\": 47959,\n        \"samples\": [\n          \"Sentence: 13390\",\n          \"Sentence: 3036\",\n          \"Sentence: 6014\"\n        ],\n        \"semantic_type\": \"\",\n        \"description\": \"\"\n      }\n    },\n    {\n      \"column\": \"Sentence\",\n      \"properties\": {\n        \"dtype\": \"string\",\n        \"num_unique_values\": 47575,\n        \"samples\": [\n          \"India 's government has warned the national media not to publish anything that hurts the feelings of any religious community .\",\n          \"Meanwhile , the U.N. secretary-general 's special representative for children and armed conflict concluded a five-day visit to Iraq Friday .\",\n          \"A government health official says illnesses caused by contaminated water have killed at least 66 people , and there are fears the TRUE death toll could be far higher , since many cases have not been reported .\"\n        ],\n        \"semantic_type\": \"\",\n        \"description\": \"\"\n      }\n    },\n    {\n      \"column\": \"pos\",\n      \"properties\": {\n        \"dtype\": \"object\",\n        \"semantic_type\": \"\",\n        \"description\": \"\"\n      }\n    }\n  ]\n}",
              "type": "dataframe",
              "variable_name": "ner_df"
            },
            "text/html": [
              "\n",
              "  <div id=\"df-45b5bc1a-4f3b-4132-a2d3-47fed95b3d29\" class=\"colab-df-container\">\n",
              "    <div>\n",
              "<style scoped>\n",
              "    .dataframe tbody tr th:only-of-type {\n",
              "        vertical-align: middle;\n",
              "    }\n",
              "\n",
              "    .dataframe tbody tr th {\n",
              "        vertical-align: top;\n",
              "    }\n",
              "\n",
              "    .dataframe thead th {\n",
              "        text-align: right;\n",
              "    }\n",
              "</style>\n",
              "<table border=\"1\" class=\"dataframe\">\n",
              "  <thead>\n",
              "    <tr style=\"text-align: right;\">\n",
              "      <th></th>\n",
              "      <th>Sentence #</th>\n",
              "      <th>Sentence</th>\n",
              "      <th>pos</th>\n",
              "    </tr>\n",
              "  </thead>\n",
              "  <tbody>\n",
              "    <tr>\n",
              "      <th>0</th>\n",
              "      <td>Sentence: 1</td>\n",
              "      <td>Thousands of demonstrators have marched throug...</td>\n",
              "      <td>[(Thousands, NNS), (of, IN), (demonstrators, N...</td>\n",
              "    </tr>\n",
              "    <tr>\n",
              "      <th>1</th>\n",
              "      <td>Sentence: 2</td>\n",
              "      <td>Families of soldiers killed in the conflict jo...</td>\n",
              "      <td>[(Families, NNS), (of, IN), (soldiers, NNS), (...</td>\n",
              "    </tr>\n",
              "    <tr>\n",
              "      <th>2</th>\n",
              "      <td>Sentence: 3</td>\n",
              "      <td>They marched from the Houses of Parliament to ...</td>\n",
              "      <td>[(They, PRP), (marched, VBD), (from, IN), (the...</td>\n",
              "    </tr>\n",
              "    <tr>\n",
              "      <th>3</th>\n",
              "      <td>Sentence: 4</td>\n",
              "      <td>Police put the number of marchers at 10,000 wh...</td>\n",
              "      <td>[(Police, NNP), (put, VBD), (the, DT), (number...</td>\n",
              "    </tr>\n",
              "    <tr>\n",
              "      <th>4</th>\n",
              "      <td>Sentence: 5</td>\n",
              "      <td>The protest comes on the eve of the annual con...</td>\n",
              "      <td>[(The, DT), (protest, NN), (comes, VBZ), (on, ...</td>\n",
              "    </tr>\n",
              "    <tr>\n",
              "      <th>...</th>\n",
              "      <td>...</td>\n",
              "      <td>...</td>\n",
              "      <td>...</td>\n",
              "    </tr>\n",
              "    <tr>\n",
              "      <th>47954</th>\n",
              "      <td>Sentence: 47955</td>\n",
              "      <td>Indian border security forces are accusing the...</td>\n",
              "      <td>[(Indian, JJ), (border, NN), (security, NN), (...</td>\n",
              "    </tr>\n",
              "    <tr>\n",
              "      <th>47955</th>\n",
              "      <td>Sentence: 47956</td>\n",
              "      <td>Indian officials said no one was injured in Sa...</td>\n",
              "      <td>[(Indian, JJ), (officials, NNS), (said, VBD), ...</td>\n",
              "    </tr>\n",
              "    <tr>\n",
              "      <th>47956</th>\n",
              "      <td>Sentence: 47957</td>\n",
              "      <td>Two more landed in fields belonging to a nearb...</td>\n",
              "      <td>[(Two, CD), (more, JJR), (landed, VBN), (in, I...</td>\n",
              "    </tr>\n",
              "    <tr>\n",
              "      <th>47957</th>\n",
              "      <td>Sentence: 47958</td>\n",
              "      <td>They say not all of the rockets exploded upon ...</td>\n",
              "      <td>[(They, PRP), (say, VBP), (not, RB), (all, DT)...</td>\n",
              "    </tr>\n",
              "    <tr>\n",
              "      <th>47958</th>\n",
              "      <td>Sentence: 47959</td>\n",
              "      <td>Indian forces said they responded to the attack</td>\n",
              "      <td>[(Indian, JJ), (forces, NNS), (said, VBD), (th...</td>\n",
              "    </tr>\n",
              "  </tbody>\n",
              "</table>\n",
              "<p>47959 rows × 3 columns</p>\n",
              "</div>\n",
              "    <div class=\"colab-df-buttons\">\n",
              "\n",
              "  <div class=\"colab-df-container\">\n",
              "    <button class=\"colab-df-convert\" onclick=\"convertToInteractive('df-45b5bc1a-4f3b-4132-a2d3-47fed95b3d29')\"\n",
              "            title=\"Convert this dataframe to an interactive table.\"\n",
              "            style=\"display:none;\">\n",
              "\n",
              "  <svg xmlns=\"http://www.w3.org/2000/svg\" height=\"24px\" viewBox=\"0 -960 960 960\">\n",
              "    <path d=\"M120-120v-720h720v720H120Zm60-500h600v-160H180v160Zm220 220h160v-160H400v160Zm0 220h160v-160H400v160ZM180-400h160v-160H180v160Zm440 0h160v-160H620v160ZM180-180h160v-160H180v160Zm440 0h160v-160H620v160Z\"/>\n",
              "  </svg>\n",
              "    </button>\n",
              "\n",
              "  <style>\n",
              "    .colab-df-container {\n",
              "      display:flex;\n",
              "      gap: 12px;\n",
              "    }\n",
              "\n",
              "    .colab-df-convert {\n",
              "      background-color: #E8F0FE;\n",
              "      border: none;\n",
              "      border-radius: 50%;\n",
              "      cursor: pointer;\n",
              "      display: none;\n",
              "      fill: #1967D2;\n",
              "      height: 32px;\n",
              "      padding: 0 0 0 0;\n",
              "      width: 32px;\n",
              "    }\n",
              "\n",
              "    .colab-df-convert:hover {\n",
              "      background-color: #E2EBFA;\n",
              "      box-shadow: 0px 1px 2px rgba(60, 64, 67, 0.3), 0px 1px 3px 1px rgba(60, 64, 67, 0.15);\n",
              "      fill: #174EA6;\n",
              "    }\n",
              "\n",
              "    .colab-df-buttons div {\n",
              "      margin-bottom: 4px;\n",
              "    }\n",
              "\n",
              "    [theme=dark] .colab-df-convert {\n",
              "      background-color: #3B4455;\n",
              "      fill: #D2E3FC;\n",
              "    }\n",
              "\n",
              "    [theme=dark] .colab-df-convert:hover {\n",
              "      background-color: #434B5C;\n",
              "      box-shadow: 0px 1px 3px 1px rgba(0, 0, 0, 0.15);\n",
              "      filter: drop-shadow(0px 1px 2px rgba(0, 0, 0, 0.3));\n",
              "      fill: #FFFFFF;\n",
              "    }\n",
              "  </style>\n",
              "\n",
              "    <script>\n",
              "      const buttonEl =\n",
              "        document.querySelector('#df-45b5bc1a-4f3b-4132-a2d3-47fed95b3d29 button.colab-df-convert');\n",
              "      buttonEl.style.display =\n",
              "        google.colab.kernel.accessAllowed ? 'block' : 'none';\n",
              "\n",
              "      async function convertToInteractive(key) {\n",
              "        const element = document.querySelector('#df-45b5bc1a-4f3b-4132-a2d3-47fed95b3d29');\n",
              "        const dataTable =\n",
              "          await google.colab.kernel.invokeFunction('convertToInteractive',\n",
              "                                                    [key], {});\n",
              "        if (!dataTable) return;\n",
              "\n",
              "        const docLinkHtml = 'Like what you see? Visit the ' +\n",
              "          '<a target=\"_blank\" href=https://colab.research.google.com/notebooks/data_table.ipynb>data table notebook</a>'\n",
              "          + ' to learn more about interactive tables.';\n",
              "        element.innerHTML = '';\n",
              "        dataTable['output_type'] = 'display_data';\n",
              "        await google.colab.output.renderOutput(dataTable, element);\n",
              "        const docLink = document.createElement('div');\n",
              "        docLink.innerHTML = docLinkHtml;\n",
              "        element.appendChild(docLink);\n",
              "      }\n",
              "    </script>\n",
              "  </div>\n",
              "\n",
              "\n",
              "<div id=\"df-9c5e9a48-ef74-4258-8e07-a1c06a70923a\">\n",
              "  <button class=\"colab-df-quickchart\" onclick=\"quickchart('df-9c5e9a48-ef74-4258-8e07-a1c06a70923a')\"\n",
              "            title=\"Suggest charts\"\n",
              "            style=\"display:none;\">\n",
              "\n",
              "<svg xmlns=\"http://www.w3.org/2000/svg\" height=\"24px\"viewBox=\"0 0 24 24\"\n",
              "     width=\"24px\">\n",
              "    <g>\n",
              "        <path d=\"M19 3H5c-1.1 0-2 .9-2 2v14c0 1.1.9 2 2 2h14c1.1 0 2-.9 2-2V5c0-1.1-.9-2-2-2zM9 17H7v-7h2v7zm4 0h-2V7h2v10zm4 0h-2v-4h2v4z\"/>\n",
              "    </g>\n",
              "</svg>\n",
              "  </button>\n",
              "\n",
              "<style>\n",
              "  .colab-df-quickchart {\n",
              "      --bg-color: #E8F0FE;\n",
              "      --fill-color: #1967D2;\n",
              "      --hover-bg-color: #E2EBFA;\n",
              "      --hover-fill-color: #174EA6;\n",
              "      --disabled-fill-color: #AAA;\n",
              "      --disabled-bg-color: #DDD;\n",
              "  }\n",
              "\n",
              "  [theme=dark] .colab-df-quickchart {\n",
              "      --bg-color: #3B4455;\n",
              "      --fill-color: #D2E3FC;\n",
              "      --hover-bg-color: #434B5C;\n",
              "      --hover-fill-color: #FFFFFF;\n",
              "      --disabled-bg-color: #3B4455;\n",
              "      --disabled-fill-color: #666;\n",
              "  }\n",
              "\n",
              "  .colab-df-quickchart {\n",
              "    background-color: var(--bg-color);\n",
              "    border: none;\n",
              "    border-radius: 50%;\n",
              "    cursor: pointer;\n",
              "    display: none;\n",
              "    fill: var(--fill-color);\n",
              "    height: 32px;\n",
              "    padding: 0;\n",
              "    width: 32px;\n",
              "  }\n",
              "\n",
              "  .colab-df-quickchart:hover {\n",
              "    background-color: var(--hover-bg-color);\n",
              "    box-shadow: 0 1px 2px rgba(60, 64, 67, 0.3), 0 1px 3px 1px rgba(60, 64, 67, 0.15);\n",
              "    fill: var(--button-hover-fill-color);\n",
              "  }\n",
              "\n",
              "  .colab-df-quickchart-complete:disabled,\n",
              "  .colab-df-quickchart-complete:disabled:hover {\n",
              "    background-color: var(--disabled-bg-color);\n",
              "    fill: var(--disabled-fill-color);\n",
              "    box-shadow: none;\n",
              "  }\n",
              "\n",
              "  .colab-df-spinner {\n",
              "    border: 2px solid var(--fill-color);\n",
              "    border-color: transparent;\n",
              "    border-bottom-color: var(--fill-color);\n",
              "    animation:\n",
              "      spin 1s steps(1) infinite;\n",
              "  }\n",
              "\n",
              "  @keyframes spin {\n",
              "    0% {\n",
              "      border-color: transparent;\n",
              "      border-bottom-color: var(--fill-color);\n",
              "      border-left-color: var(--fill-color);\n",
              "    }\n",
              "    20% {\n",
              "      border-color: transparent;\n",
              "      border-left-color: var(--fill-color);\n",
              "      border-top-color: var(--fill-color);\n",
              "    }\n",
              "    30% {\n",
              "      border-color: transparent;\n",
              "      border-left-color: var(--fill-color);\n",
              "      border-top-color: var(--fill-color);\n",
              "      border-right-color: var(--fill-color);\n",
              "    }\n",
              "    40% {\n",
              "      border-color: transparent;\n",
              "      border-right-color: var(--fill-color);\n",
              "      border-top-color: var(--fill-color);\n",
              "    }\n",
              "    60% {\n",
              "      border-color: transparent;\n",
              "      border-right-color: var(--fill-color);\n",
              "    }\n",
              "    80% {\n",
              "      border-color: transparent;\n",
              "      border-right-color: var(--fill-color);\n",
              "      border-bottom-color: var(--fill-color);\n",
              "    }\n",
              "    90% {\n",
              "      border-color: transparent;\n",
              "      border-bottom-color: var(--fill-color);\n",
              "    }\n",
              "  }\n",
              "</style>\n",
              "\n",
              "  <script>\n",
              "    async function quickchart(key) {\n",
              "      const quickchartButtonEl =\n",
              "        document.querySelector('#' + key + ' button');\n",
              "      quickchartButtonEl.disabled = true;  // To prevent multiple clicks.\n",
              "      quickchartButtonEl.classList.add('colab-df-spinner');\n",
              "      try {\n",
              "        const charts = await google.colab.kernel.invokeFunction(\n",
              "            'suggestCharts', [key], {});\n",
              "      } catch (error) {\n",
              "        console.error('Error during call to suggestCharts:', error);\n",
              "      }\n",
              "      quickchartButtonEl.classList.remove('colab-df-spinner');\n",
              "      quickchartButtonEl.classList.add('colab-df-quickchart-complete');\n",
              "    }\n",
              "    (() => {\n",
              "      let quickchartButtonEl =\n",
              "        document.querySelector('#df-9c5e9a48-ef74-4258-8e07-a1c06a70923a button');\n",
              "      quickchartButtonEl.style.display =\n",
              "        google.colab.kernel.accessAllowed ? 'block' : 'none';\n",
              "    })();\n",
              "  </script>\n",
              "</div>\n",
              "\n",
              "  <div id=\"id_3c13557e-5193-4bb6-999f-704fb5982b0b\">\n",
              "    <style>\n",
              "      .colab-df-generate {\n",
              "        background-color: #E8F0FE;\n",
              "        border: none;\n",
              "        border-radius: 50%;\n",
              "        cursor: pointer;\n",
              "        display: none;\n",
              "        fill: #1967D2;\n",
              "        height: 32px;\n",
              "        padding: 0 0 0 0;\n",
              "        width: 32px;\n",
              "      }\n",
              "\n",
              "      .colab-df-generate:hover {\n",
              "        background-color: #E2EBFA;\n",
              "        box-shadow: 0px 1px 2px rgba(60, 64, 67, 0.3), 0px 1px 3px 1px rgba(60, 64, 67, 0.15);\n",
              "        fill: #174EA6;\n",
              "      }\n",
              "\n",
              "      [theme=dark] .colab-df-generate {\n",
              "        background-color: #3B4455;\n",
              "        fill: #D2E3FC;\n",
              "      }\n",
              "\n",
              "      [theme=dark] .colab-df-generate:hover {\n",
              "        background-color: #434B5C;\n",
              "        box-shadow: 0px 1px 3px 1px rgba(0, 0, 0, 0.15);\n",
              "        filter: drop-shadow(0px 1px 2px rgba(0, 0, 0, 0.3));\n",
              "        fill: #FFFFFF;\n",
              "      }\n",
              "    </style>\n",
              "    <button class=\"colab-df-generate\" onclick=\"generateWithVariable('ner_df')\"\n",
              "            title=\"Generate code using this dataframe.\"\n",
              "            style=\"display:none;\">\n",
              "\n",
              "  <svg xmlns=\"http://www.w3.org/2000/svg\" height=\"24px\"viewBox=\"0 0 24 24\"\n",
              "       width=\"24px\">\n",
              "    <path d=\"M7,19H8.4L18.45,9,17,7.55,7,17.6ZM5,21V16.75L18.45,3.32a2,2,0,0,1,2.83,0l1.4,1.43a1.91,1.91,0,0,1,.58,1.4,1.91,1.91,0,0,1-.58,1.4L9.25,21ZM18.45,9,17,7.55Zm-12,3A5.31,5.31,0,0,0,4.9,8.1,5.31,5.31,0,0,0,1,6.5,5.31,5.31,0,0,0,4.9,4.9,5.31,5.31,0,0,0,6.5,1,5.31,5.31,0,0,0,8.1,4.9,5.31,5.31,0,0,0,12,6.5,5.46,5.46,0,0,0,6.5,12Z\"/>\n",
              "  </svg>\n",
              "    </button>\n",
              "    <script>\n",
              "      (() => {\n",
              "      const buttonEl =\n",
              "        document.querySelector('#id_3c13557e-5193-4bb6-999f-704fb5982b0b button.colab-df-generate');\n",
              "      buttonEl.style.display =\n",
              "        google.colab.kernel.accessAllowed ? 'block' : 'none';\n",
              "\n",
              "      buttonEl.onclick = () => {\n",
              "        google.colab.notebook.generateWithVariable('ner_df');\n",
              "      }\n",
              "      })();\n",
              "    </script>\n",
              "  </div>\n",
              "\n",
              "    </div>\n",
              "  </div>\n"
            ],
            "text/plain": [
              "            Sentence #                                           Sentence  \\\n",
              "0          Sentence: 1  Thousands of demonstrators have marched throug...   \n",
              "1          Sentence: 2  Families of soldiers killed in the conflict jo...   \n",
              "2          Sentence: 3  They marched from the Houses of Parliament to ...   \n",
              "3          Sentence: 4  Police put the number of marchers at 10,000 wh...   \n",
              "4          Sentence: 5  The protest comes on the eve of the annual con...   \n",
              "...                ...                                                ...   \n",
              "47954  Sentence: 47955  Indian border security forces are accusing the...   \n",
              "47955  Sentence: 47956  Indian officials said no one was injured in Sa...   \n",
              "47956  Sentence: 47957  Two more landed in fields belonging to a nearb...   \n",
              "47957  Sentence: 47958  They say not all of the rockets exploded upon ...   \n",
              "47958  Sentence: 47959    Indian forces said they responded to the attack   \n",
              "\n",
              "                                                     pos  \n",
              "0      [(Thousands, NNS), (of, IN), (demonstrators, N...  \n",
              "1      [(Families, NNS), (of, IN), (soldiers, NNS), (...  \n",
              "2      [(They, PRP), (marched, VBD), (from, IN), (the...  \n",
              "3      [(Police, NNP), (put, VBD), (the, DT), (number...  \n",
              "4      [(The, DT), (protest, NN), (comes, VBZ), (on, ...  \n",
              "...                                                  ...  \n",
              "47954  [(Indian, JJ), (border, NN), (security, NN), (...  \n",
              "47955  [(Indian, JJ), (officials, NNS), (said, VBD), ...  \n",
              "47956  [(Two, CD), (more, JJR), (landed, VBN), (in, I...  \n",
              "47957  [(They, PRP), (say, VBP), (not, RB), (all, DT)...  \n",
              "47958  [(Indian, JJ), (forces, NNS), (said, VBD), (th...  \n",
              "\n",
              "[47959 rows x 3 columns]"
            ]
          },
          "execution_count": 26,
          "metadata": {},
          "output_type": "execute_result"
        }
      ],
      "source": [
        "# Reading the data from ner.csv file using pandas\n",
        "\n",
        "ner = pd.read_csv('sample_data/ner.csv')\n",
        "ner_df = pd.DataFrame(ner)\n",
        "ner_df\n",
        "\n",
        "# Building a function that takes sentence as argument and returns parts of speech tags.\n",
        "\n",
        "def pos_tag(sentence):\n",
        "  tokens = nltk.word_tokenize(sentence)\n",
        "  pos_tags = nltk.pos_tag(tokens)\n",
        "  return pos_tags\n",
        "\n",
        "# Adding the result into a new \"pos\" column to the ner.csv file.\n",
        "\n",
        "ner_df['pos'] = ner_df['Sentence'].apply(pos_tag)\n",
        "ner_df"
      ]
    },
    {
      "cell_type": "markdown",
      "id": "HnEf1pzD9SrE",
      "metadata": {
        "id": "HnEf1pzD9SrE"
      },
      "source": [
        "#### Q1.2. Implement a function called np_chunker that receives each sentence from the ner_df dataframe. Then, it defines and applies a chunk parser to chunk all noun phrases from these sentences."
      ]
    },
    {
      "cell_type": "code",
      "execution_count": 27,
      "id": "E18wGFoebsR2",
      "metadata": {
        "colab": {
          "base_uri": "https://localhost:8080/",
          "height": 458
        },
        "id": "E18wGFoebsR2",
        "outputId": "5e7435cf-465f-4d61-9b45-6265f54a12bb"
      },
      "outputs": [
        {
          "data": {
            "text/html": [
              "<div>\n",
              "<style scoped>\n",
              "    .dataframe tbody tr th:only-of-type {\n",
              "        vertical-align: middle;\n",
              "    }\n",
              "\n",
              "    .dataframe tbody tr th {\n",
              "        vertical-align: top;\n",
              "    }\n",
              "\n",
              "    .dataframe thead th {\n",
              "        text-align: right;\n",
              "    }\n",
              "</style>\n",
              "<table border=\"1\" class=\"dataframe\">\n",
              "  <thead>\n",
              "    <tr style=\"text-align: right;\">\n",
              "      <th></th>\n",
              "      <th>Sentence</th>\n",
              "    </tr>\n",
              "  </thead>\n",
              "  <tbody>\n",
              "    <tr>\n",
              "      <th>0</th>\n",
              "      <td>[[(Thousands, NNS)], (of, IN), [(demonstrators...</td>\n",
              "    </tr>\n",
              "    <tr>\n",
              "      <th>1</th>\n",
              "      <td>[[(Families, NNS)], (of, IN), [(soldiers, NNS)...</td>\n",
              "    </tr>\n",
              "    <tr>\n",
              "      <th>2</th>\n",
              "      <td>[(They, PRP), (marched, VBD), (from, IN), [(th...</td>\n",
              "    </tr>\n",
              "    <tr>\n",
              "      <th>3</th>\n",
              "      <td>[[(Police, NNP)], (put, VBD), [(the, DT), (num...</td>\n",
              "    </tr>\n",
              "    <tr>\n",
              "      <th>4</th>\n",
              "      <td>[[(The, DT), (protest, NN)], (comes, VBZ), (on...</td>\n",
              "    </tr>\n",
              "    <tr>\n",
              "      <th>...</th>\n",
              "      <td>...</td>\n",
              "    </tr>\n",
              "    <tr>\n",
              "      <th>47954</th>\n",
              "      <td>[[(Indian, JJ), (border, NN), (security, NN), ...</td>\n",
              "    </tr>\n",
              "    <tr>\n",
              "      <th>47955</th>\n",
              "      <td>[[(Indian, JJ), (officials, NNS)], (said, VBD)...</td>\n",
              "    </tr>\n",
              "    <tr>\n",
              "      <th>47956</th>\n",
              "      <td>[(Two, CD), (more, JJR), (landed, VBN), (in, I...</td>\n",
              "    </tr>\n",
              "    <tr>\n",
              "      <th>47957</th>\n",
              "      <td>[(They, PRP), (say, VBP), (not, RB), (all, DT)...</td>\n",
              "    </tr>\n",
              "    <tr>\n",
              "      <th>47958</th>\n",
              "      <td>[[(Indian, JJ), (forces, NNS)], (said, VBD), (...</td>\n",
              "    </tr>\n",
              "  </tbody>\n",
              "</table>\n",
              "<p>47959 rows × 1 columns</p>\n",
              "</div><br><label><b>dtype:</b> object</label>"
            ],
            "text/plain": [
              "0        [[(Thousands, NNS)], (of, IN), [(demonstrators...\n",
              "1        [[(Families, NNS)], (of, IN), [(soldiers, NNS)...\n",
              "2        [(They, PRP), (marched, VBD), (from, IN), [(th...\n",
              "3        [[(Police, NNP)], (put, VBD), [(the, DT), (num...\n",
              "4        [[(The, DT), (protest, NN)], (comes, VBZ), (on...\n",
              "                               ...                        \n",
              "47954    [[(Indian, JJ), (border, NN), (security, NN), ...\n",
              "47955    [[(Indian, JJ), (officials, NNS)], (said, VBD)...\n",
              "47956    [(Two, CD), (more, JJR), (landed, VBN), (in, I...\n",
              "47957    [(They, PRP), (say, VBP), (not, RB), (all, DT)...\n",
              "47958    [[(Indian, JJ), (forces, NNS)], (said, VBD), (...\n",
              "Name: Sentence, Length: 47959, dtype: object"
            ]
          },
          "execution_count": 27,
          "metadata": {},
          "output_type": "execute_result"
        }
      ],
      "source": [
        "# Building a np_chunker function that takes each sentence as argument,\n",
        "# chunks all the noun phrases from the sentences.\n",
        "\n",
        "def np_chunker(sentence):\n",
        "  tokens = nltk.word_tokenize(sentence)\n",
        "  pos_tags = nltk.pos_tag(tokens)\n",
        "  grammar = r\"\"\"NP: {<DT>?<JJ.*>*<NN.*>+}\"\"\"\n",
        "  chunk_parser = nltk.RegexpParser(grammar)\n",
        "  tree = chunk_parser.parse(pos_tags)\n",
        "  return tree\n",
        "\n",
        "# Printing the result\n",
        "  for subtree in tree.subtrees():\n",
        "    print(subtree)\n",
        "\n",
        "# Calling the np_chunker function with the Sentece column as argument\n",
        "ner_df['Sentence'].apply(np_chunker)"
      ]
    },
    {
      "cell_type": "markdown",
      "id": "X3mN4rxk9pb6",
      "metadata": {
        "id": "X3mN4rxk9pb6"
      },
      "source": [
        "#### Q1.3. Perform a Named Entity Recognition (NER) on the Sentence column and add the extracted entities as a new column called entities"
      ]
    },
    {
      "cell_type": "code",
      "execution_count": 28,
      "id": "L-WBVIxefF-_",
      "metadata": {
        "colab": {
          "base_uri": "https://localhost:8080/",
          "height": 458
        },
        "id": "L-WBVIxefF-_",
        "outputId": "7ff18253-215e-4da5-9fba-76d74c3e7440"
      },
      "outputs": [
        {
          "data": {
            "text/html": [
              "<div>\n",
              "<style scoped>\n",
              "    .dataframe tbody tr th:only-of-type {\n",
              "        vertical-align: middle;\n",
              "    }\n",
              "\n",
              "    .dataframe tbody tr th {\n",
              "        vertical-align: top;\n",
              "    }\n",
              "\n",
              "    .dataframe thead th {\n",
              "        text-align: right;\n",
              "    }\n",
              "</style>\n",
              "<table border=\"1\" class=\"dataframe\">\n",
              "  <thead>\n",
              "    <tr style=\"text-align: right;\">\n",
              "      <th></th>\n",
              "      <th>entities</th>\n",
              "    </tr>\n",
              "  </thead>\n",
              "  <tbody>\n",
              "    <tr>\n",
              "      <th>0</th>\n",
              "      <td>(GPE, London)</td>\n",
              "    </tr>\n",
              "    <tr>\n",
              "      <th>1</th>\n",
              "      <td>(PERSON, Bush Number One Terrorist)</td>\n",
              "    </tr>\n",
              "    <tr>\n",
              "      <th>2</th>\n",
              "      <td>(ORGANIZATION, Houses)</td>\n",
              "    </tr>\n",
              "    <tr>\n",
              "      <th>3</th>\n",
              "      <td>None</td>\n",
              "    </tr>\n",
              "    <tr>\n",
              "      <th>4</th>\n",
              "      <td>(GPE, Britain)</td>\n",
              "    </tr>\n",
              "    <tr>\n",
              "      <th>...</th>\n",
              "      <td>...</td>\n",
              "    </tr>\n",
              "    <tr>\n",
              "      <th>47954</th>\n",
              "      <td>(GPE, Indian)</td>\n",
              "    </tr>\n",
              "    <tr>\n",
              "      <th>47955</th>\n",
              "      <td>(GPE, Indian)</td>\n",
              "    </tr>\n",
              "    <tr>\n",
              "      <th>47956</th>\n",
              "      <td>None</td>\n",
              "    </tr>\n",
              "    <tr>\n",
              "      <th>47957</th>\n",
              "      <td>None</td>\n",
              "    </tr>\n",
              "    <tr>\n",
              "      <th>47958</th>\n",
              "      <td>(GPE, Indian)</td>\n",
              "    </tr>\n",
              "  </tbody>\n",
              "</table>\n",
              "<p>47959 rows × 1 columns</p>\n",
              "</div><br><label><b>dtype:</b> object</label>"
            ],
            "text/plain": [
              "0                              (GPE, London)\n",
              "1        (PERSON, Bush Number One Terrorist)\n",
              "2                     (ORGANIZATION, Houses)\n",
              "3                                       None\n",
              "4                             (GPE, Britain)\n",
              "                        ...                 \n",
              "47954                          (GPE, Indian)\n",
              "47955                          (GPE, Indian)\n",
              "47956                                   None\n",
              "47957                                   None\n",
              "47958                          (GPE, Indian)\n",
              "Name: entities, Length: 47959, dtype: object"
            ]
          },
          "execution_count": 28,
          "metadata": {},
          "output_type": "execute_result"
        }
      ],
      "source": [
        "# Building a ner_tag function that takes sentence as argument\n",
        "# and returns entities with the corresponding (NER) labels.\n",
        "\n",
        "def ner_tag(sentence):\n",
        "  tokens = nltk.word_tokenize(sentence)\n",
        "  pos_tags = nltk.pos_tag(tokens)\n",
        "  ner_tags = nltk.ne_chunk(pos_tags)\n",
        "\n",
        "  for chunk in ner_tags:\n",
        "    if hasattr(chunk, 'label'):\n",
        "      return chunk.label(), ' '.join(c[0] for c in chunk)\n",
        "\n",
        "# Adding the result into a new column called \"entities\" in the ner_df dataframe\n",
        "\n",
        "ner_df['entities'] = ner_df['Sentence'].apply(ner_tag)\n",
        "ner_df['entities']"
      ]
    },
    {
      "cell_type": "markdown",
      "id": "a06c4859",
      "metadata": {
        "id": "a06c4859"
      },
      "source": [
        "<div class=\"alert alert-block alert-info\">\n",
        "\n",
        "# Part 2: Reflection\n",
        "    \n",
        "</div>"
      ]
    },
    {
      "cell_type": "markdown",
      "id": "73f41c86",
      "metadata": {
        "id": "73f41c86"
      },
      "source": [
        "As a second step—after answering the questions, include the following:\n",
        "1. A reflection of your experience performing the activity.\n",
        "2. A reflection on the importance of learning this activity.\n",
        "\n",
        "\n",
        "**Note:** include your reflection in this notebook as markdown cells."
      ]
    },
    {
      "cell_type": "markdown",
      "id": "p9RtYVKdwYOV",
      "metadata": {
        "id": "p9RtYVKdwYOV"
      },
      "source": [
        "**1. A reflection of your experience performing the activity.**"
      ]
    },
    {
      "cell_type": "markdown",
      "id": "f04ec951",
      "metadata": {
        "id": "f04ec951"
      },
      "source": [
        "I found the Named entity relationship activity as both challenging and rewarding. As I started working on Named Entity Recognition (NER), it became clear that extracting entities and labeling them accurately requires a detailed understanding of the text and how machine learning models handle language processing. I got firsthand experience in breaking down complex information into structured data using NER, which was quite satisfying. I learned a lot about the nuances of preprocessing text, building models, and interpreting the labeled results."
      ]
    },
    {
      "cell_type": "markdown",
      "id": "6nmO4f3dwjqr",
      "metadata": {
        "id": "6nmO4f3dwjqr"
      },
      "source": [
        "**2. Reflection on the Importance of Learning the Activity**"
      ]
    },
    {
      "cell_type": "markdown",
      "id": "UIx8hOkcwddZ",
      "metadata": {
        "id": "UIx8hOkcwddZ"
      },
      "source": [
        "NER and other NLP tasks are crucial in today’s data-driven world, especially when dealing with large volumes of unstructured data like text. It equips us with the ability to extract meaningful insights, identify key information, and even automate complex tasks. This knowledge is essential not only for advancing research but also for practical applications in industries where language understanding is key, such as customer service, content analysis, and even personal assistants."
      ]
    },
    {
      "cell_type": "markdown",
      "id": "844c3dbe",
      "metadata": {
        "id": "844c3dbe"
      },
      "source": [
        "<div class=\"alert alert-block alert-info\">\n",
        "\n",
        "# Submission\n",
        "    \n",
        "</div>"
      ]
    },
    {
      "cell_type": "markdown",
      "id": "fbd22e1a",
      "metadata": {
        "id": "fbd22e1a"
      },
      "source": [
        "Submit **Lab3.ipynb** to the **Lab 3 – Named Entity Recognition (Dropbox)** on D2L by the due date."
      ]
    },
    {
      "cell_type": "markdown",
      "id": "f053c344",
      "metadata": {
        "id": "f053c344"
      },
      "source": [
        "<div class=\"alert alert-block alert-info\">\n",
        "\n",
        "# Grading Rubric\n",
        "    \n",
        "</div>"
      ]
    },
    {
      "cell_type": "markdown",
      "id": "71c85704",
      "metadata": {
        "id": "71c85704"
      },
      "source": [
        "| Criterion                                | Excellent                                          | Good                                               | Average                                           | Below Average                                   | Poor                                              | No Attempt                      |\n",
        "|:---------------------------------------- |:-------------------------------------------------- |:-------------------------------------------------- |:------------------------------------------------ |:------------------------------------------------ |:------------------------------------------------ |:-------------------------------- |\n",
        "| **Part 1:** Activity-Question 1.1        | **10 points** - Completes all aspects of the question correctly | **8 points** - Completes most aspects of the question correctly | **6 points** - Completes aspects of the question correctly, and some incorrectly | **4 points** - Completes most aspects of the question incorrectly or does not attempt many aspects | **2 points** - Minimal effort or completes a few aspects of the question or very few correctly | **0 points** - Did not complete the question |\n",
        "| **Part 1:** Activity-Question 1.2        | **10 points** - Completes all aspects of the question correctly | **8 points** - Completes most aspects of the question correctly | **6 points** - Completes aspects of the question correctly, and some incorrectly | **4 points** - Completes most aspects of the question incorrectly or does not attempt many aspects | **2 points** - Minimal effort or completes a few aspects of the question or very few correctly | **0 points** - Did not complete the question |\n",
        "| **Part 1:** Activity-Question 1.3        | **10 points** - Completes all aspects of the question correctly | **8 points** - Completes most aspects of the question correctly | **6 points** - Completes aspects of the question correctly, and some incorrectly | **4 points** - Completes most aspects of the question incorrectly or does not attempt many aspects | **2 points** - Minimal effort or completes a few aspects of the question or very few correctly | **0 points** - Did not complete the question |\n",
        "| **Part 2:** Reflection                   | **10 points** - Reflection clearly ties to the module content; experience and importance clearly laid out | **8 points** - Reflection mostly ties to the module content; experience & importance are discussed | **6 points** - Reflection ties minimally to the module content; experience & importance are discussed but not thoroughly | **4 points** - Reflection does not tie to the module content; experience & importance are minimally discussed | **2 points** - Minimal effort to tie to content; minimal effort to describe experience/importance | **0 points** - Did not complete the reflection |\n"
      ]
    }
  ],
  "metadata": {
    "colab": {
      "provenance": []
    },
    "kernelspec": {
      "display_name": "Python 3 (ipykernel)",
      "language": "python",
      "name": "python3"
    },
    "language_info": {
      "codemirror_mode": {
        "name": "ipython",
        "version": 3
      },
      "file_extension": ".py",
      "mimetype": "text/x-python",
      "name": "python",
      "nbconvert_exporter": "python",
      "pygments_lexer": "ipython3",
      "version": "3.12.5"
    },
    "toc": {
      "base_numbering": 1,
      "nav_menu": {},
      "number_sections": false,
      "sideBar": true,
      "skip_h1_title": true,
      "title_cell": "Table of Contents",
      "title_sidebar": "Contents",
      "toc_cell": false,
      "toc_position": {
        "height": "calc(100% - 180px)",
        "left": "10px",
        "top": "150px",
        "width": "214.052px"
      },
      "toc_section_display": true,
      "toc_window_display": false
    }
  },
  "nbformat": 4,
  "nbformat_minor": 5
}
